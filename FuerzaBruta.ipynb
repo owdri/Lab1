{
  "nbformat": 4,
  "nbformat_minor": 0,
  "metadata": {
    "colab": {
      "name": "FuerzaBruta.ipynb",
      "provenance": [],
      "include_colab_link": true
    },
    "kernelspec": {
      "name": "python3",
      "display_name": "Python 3"
    },
    "language_info": {
      "name": "python"
    }
  },
  "cells": [
    {
      "cell_type": "markdown",
      "metadata": {
        "id": "view-in-github",
        "colab_type": "text"
      },
      "source": [
        "<a href=\"https://colab.research.google.com/github/owdri/Lab1/blob/Rama2/FuerzaBruta.ipynb\" target=\"_parent\"><img src=\"https://colab.research.google.com/assets/colab-badge.svg\" alt=\"Open In Colab\"/></a>"
      ]
    },
    {
      "cell_type": "markdown",
      "metadata": {
        "id": "2MMeQLAr_SIQ"
      },
      "source": [
        "#Programa que realizara la función del algoritmo \"Fuerza bruta\" en lenguaje de programación python:\n",
        "***Crear un programa que pida al usuario que tecle una contraseña y a través de la estartegia de fuerza bruta encontrar los caracteres que haya tecleado.***\n",
        "\n",
        "**restricciones:**\n",
        "\n",
        "\n",
        "1.   Unicamente se permiten ingresar contraseñas de 5 caracteres \n",
        "2.   Las contraseñas solo podran contener letras mayúsculas y dígitos.\n",
        "3.   No podrá repetir caracteres\n",
        "4.   Debe indicar cuando no encuentre la contraseña\n",
        "\n",
        "\n",
        "\n",
        "\n"
      ]
    },
    {
      "cell_type": "markdown",
      "metadata": {
        "id": "AmKRxCQ8PZDo"
      },
      "source": [
        "###fORMA 1"
      ]
    },
    {
      "cell_type": "code",
      "metadata": {
        "colab": {
          "base_uri": "https://localhost:8080/"
        },
        "id": "782UOsUj_NhD",
        "outputId": "581aa1f1-aa2b-43af-94c5-00a979292f58"
      },
      "source": [
        "#Ingresa a un bucle para validar las restricciones 1, 2 y 3\n",
        "import getpass #Para escribir la contraseña sin eco\n",
        "\n",
        "while(True):\n",
        "  contrasena = getpass.getpass(prompt=\"Password:\\t\",stream=None)\n",
        "  print(contrasena)\n",
        "  #Validando la primera restricción\n",
        "  if(len(contrasena) != 5 ):\n",
        "    print(\"ERROR: La contraseña no debe tener mas de 5 caracteres\")\n",
        "    continue\n",
        "  #Validando la segunda restricción\n",
        "  auxListContrasena = list(contrasena)\n",
        "  auxRestriccion = 0\n",
        "  for i in auxListContrasena:\n",
        "    #if(not(ord(i) >=65 and ord(i) <= 90) or not(ord(i) >=48 and ord(i) <= 57)):\n",
        "    if(not(ord(i) >=48 and ord(i) <= 57) and not(ord(i) >=65 and ord(i) <= 90) ):\n",
        "      print(\"ERROR: Solo se permiten letras mayúsculas y digitos numéricos\")\n",
        "      auxRestriccion = 1\n",
        "      break\n",
        "  if(auxRestriccion == 1):\n",
        "    continue\n",
        "  #Validar la tercera restricción\n",
        "  auxListContrasena = list(contrasena)\n",
        "  for i in auxListContrasena:\n",
        "    auxIguales = 0\n",
        "    for j in auxListContrasena:\n",
        "      if(i == j):\n",
        "        auxIguales +=1\n",
        "    if(auxIguales > 1):\n",
        "       print(\"ERROR: No puede repetirse ningún digito en la contraseña\")\n",
        "       auxRestriccion = 1\n",
        "       break\n",
        "    if(auxRestriccion == 1):\n",
        "      continue\n",
        "  break\n",
        "\n",
        "print(auxListContrasena)\n"
      ],
      "execution_count": null,
      "outputs": [
        {
          "output_type": "stream",
          "text": [
            "Password:\t··········\n",
            "12345\n",
            "['1', '2', '3', '4', '5']\n"
          ],
          "name": "stdout"
        }
      ]
    },
    {
      "cell_type": "markdown",
      "metadata": {
        "id": "Doso5OKcMSzo"
      },
      "source": [
        "----"
      ]
    },
    {
      "cell_type": "markdown",
      "metadata": {
        "id": "_SMWA6UCPbSs"
      },
      "source": [
        "###fORMA 2"
      ]
    },
    {
      "cell_type": "code",
      "metadata": {
        "colab": {
          "base_uri": "https://localhost:8080/"
        },
        "id": "dlCcuhFKPfdP",
        "outputId": "089bf36b-3ccb-4ac0-cbf6-7b43934dc28e"
      },
      "source": [
        "#Codigos de prueba TEST\n",
        "\n",
        "import getpass #Para escribir la contraseña sin eco\n",
        "import random\n",
        "\n",
        "def validarRestricciones(contrasena):\n",
        "  #Validando la primera restricción\n",
        "  if(len(contrasena) != 5 ):\n",
        "    print(\"ERROR: La contraseña no debe tener mas de 5 caracteres\")\n",
        "    return -1 #Sale con error\n",
        "  \n",
        "  #Validando la segunda restricción\n",
        "  auxListContrasena = list(contrasena)\n",
        "  auxRestriccion = 0\n",
        "  for i in auxListContrasena:\n",
        "    #Tranformo cada digito en asccii y verifico que se encuentre en el rango aceptado\n",
        "    #         Rango Mayúsculas                        Rango Números \n",
        "    if(not(ord(i) >=48 and ord(i) <= 57) and not(ord(i) >=65 and ord(i) <= 90) ):\n",
        "      print(\"ERROR: Solo se permiten letras mayúsculas y digitos numéricos\")\n",
        "      auxRestriccion = 1 #Indica que encontro un dígito fuera de rango\n",
        "      break\n",
        "  if(auxRestriccion == 1):\n",
        "    return -1 #Sale con error\n",
        "  \n",
        "  #Validar la tercera restricción\n",
        "  auxListContrasena = list(contrasena)\n",
        "  for elemento in auxListContrasena:\n",
        "    if(auxListContrasena.count(elemento) > 1): #Verifica si un elemento se encuentra mas de una vez en la lista\n",
        "      print(\"ERROR: No puede repetir ningún digito en la contraseña\")\n",
        "      return -1 #Sale con error\n",
        "  '''for i in auxListContrasena:\n",
        "    auxIguales = 0\n",
        "    for j in auxListContrasena:\n",
        "      if(i == j):\n",
        "        auxIguales +=1\n",
        "    if(auxIguales > 1):#Verifica si un elemento se encuentra mas de una vez en la lista\n",
        "       print(\"ERROR: No puede repetirce nungun digito en la contraseña\")\n",
        "       auxRestriccion = 1\n",
        "       break\n",
        "    if(auxRestriccion == 1):\n",
        "      return -1 #Sale con error'''\n",
        "  \n",
        "  return 0 #Sale sin error\n",
        "\n",
        "def formaBruta(auxListContrasena):\n",
        "  contrasenaDecifrada = \"\"\n",
        "  #Esta lista guardara los digitos de la contraseña de forma aleatoria\n",
        "  listaContrasenaDecifrada = [None, None, None, None, None]#12345 # 21354\n",
        "  #Ingresando los digitos de la contraseña de forma aleatoria en la lista de None\n",
        "  for elemento in auxListContrasena:\n",
        "    while(True):\n",
        "      auxLugar = random.randint(0, 4)\n",
        "      if(listaContrasenaDecifrada[auxLugar] != None):\n",
        "        continue\n",
        "      listaContrasenaDecifrada[auxLugar] = elemento\n",
        "      break\n",
        "  \n",
        "  #Convierte la lista en una cadena\n",
        "  contrasenaDecifrada = \"\".join(listaContrasenaDecifrada)\n",
        "\n",
        "  #Pregunta si ese intento ya fue hecho\n",
        "  if(not contrasenaDecifrada in listaIntentos):\n",
        "    listaIntentos.append(contrasenaDecifrada)\n",
        "  #Pregunta si este intento es igual a la contraseña\n",
        "  if(contrasenaDecifrada == contrasena):\n",
        "    print(f\"La contraseña es: {contrasenaDecifrada} Fue encontrada en el intento: {len(listaIntentos)}\")\n",
        "    return 0\n",
        "  else:#En caso de que no, se vuelve hacer el procedimiento de forma recursiva\n",
        "    formaBruta(listaContrasenaDecifrada)\n",
        "\n",
        "\n",
        "#fUNCION ENCARGADA DE IPRIMIR LA LISTA DE INTENTOS ANTES DE LLEGAR A LA SOLUCIÓN\n",
        "def imprimir():\n",
        "  print(\"\\n\\n\\n\\n---------------------\")\n",
        "  print(\"|  LISTA DE INTENTOS |\")\n",
        "  print(\"---------------------\")\n",
        "  for i,elemento in enumerate(listaIntentos,1):\n",
        "    print(f\"|   {i}.- {elemento}      |\")\n",
        "  print(\"--------------------------------\")\n",
        "\n",
        "\n",
        "#INICIO DEL PROGRAMA\n",
        "while(True):\n",
        "  contrasena = getpass.getpass(prompt=\"Password:\\t\",stream=None)\n",
        "  validacion = validarRestricciones(contrasena)\n",
        "  if(validacion == 0):\n",
        "    break\n",
        "\n",
        "listaIntentos = []\n",
        "formaBruta(list(contrasena))\n",
        "imprimir()\n"
      ],
      "execution_count": null,
      "outputs": [
        {
          "output_type": "stream",
          "text": [
            "Password:\t··········\n",
            "ERROR: La contraseña no debe tener mas de 5 caracteres\n",
            "Password:\t··········\n",
            "ERROR: Solo se permiten letras mayúsculas y digitos numéricos\n",
            "Password:\t··········\n",
            "La contraseña es: ASDFG Fue encontrada en el intento: 105\n",
            "\n",
            "\n",
            "\n",
            "\n",
            "---------------------\n",
            "|  LISTA DE INTENTOS |\n",
            "---------------------\n",
            "|   1.- AFGDS      |\n",
            "|   2.- FDSGA      |\n",
            "|   3.- SGFDA      |\n",
            "|   4.- AFSDG      |\n",
            "|   5.- DGSAF      |\n",
            "|   6.- FDSAG      |\n",
            "|   7.- FASDG      |\n",
            "|   8.- FSAGD      |\n",
            "|   9.- SGADF      |\n",
            "|   10.- ASGDF      |\n",
            "|   11.- DAFGS      |\n",
            "|   12.- ASDGF      |\n",
            "|   13.- ASFGD      |\n",
            "|   14.- DGSFA      |\n",
            "|   15.- DGAFS      |\n",
            "|   16.- DFASG      |\n",
            "|   17.- FGADS      |\n",
            "|   18.- ADSFG      |\n",
            "|   19.- DSGFA      |\n",
            "|   20.- SAGDF      |\n",
            "|   21.- DASGF      |\n",
            "|   22.- GDFSA      |\n",
            "|   23.- ASGFD      |\n",
            "|   24.- SDGFA      |\n",
            "|   25.- DGFSA      |\n",
            "|   26.- GFASD      |\n",
            "|   27.- SFDGA      |\n",
            "|   28.- FGSAD      |\n",
            "|   29.- DFSGA      |\n",
            "|   30.- FASGD      |\n",
            "|   31.- FSADG      |\n",
            "|   32.- FAGSD      |\n",
            "|   33.- FADGS      |\n",
            "|   34.- GDSAF      |\n",
            "|   35.- GADFS      |\n",
            "|   36.- FGDAS      |\n",
            "|   37.- DGFAS      |\n",
            "|   38.- GFDAS      |\n",
            "|   39.- DSFAG      |\n",
            "|   40.- SDAFG      |\n",
            "|   41.- DAGFS      |\n",
            "|   42.- DSGAF      |\n",
            "|   43.- SDFGA      |\n",
            "|   44.- SDFAG      |\n",
            "|   45.- ADFSG      |\n",
            "|   46.- AFDSG      |\n",
            "|   47.- ADGSF      |\n",
            "|   48.- GDASF      |\n",
            "|   49.- GSFDA      |\n",
            "|   50.- GADSF      |\n",
            "|   51.- FSGDA      |\n",
            "|   52.- GDSFA      |\n",
            "|   53.- GSDFA      |\n",
            "|   54.- GSAFD      |\n",
            "|   55.- GAFSD      |\n",
            "|   56.- SFDAG      |\n",
            "|   57.- FADSG      |\n",
            "|   58.- GSADF      |\n",
            "|   59.- GFSAD      |\n",
            "|   60.- SFGDA      |\n",
            "|   61.- DSAGF      |\n",
            "|   62.- ASFDG      |\n",
            "|   63.- DSAFG      |\n",
            "|   64.- SAGFD      |\n",
            "|   65.- DASFG      |\n",
            "|   66.- DFGAS      |\n",
            "|   67.- DGASF      |\n",
            "|   68.- SGAFD      |\n",
            "|   69.- FDASG      |\n",
            "|   70.- SDGAF      |\n",
            "|   71.- DAGSF      |\n",
            "|   72.- ADGFS      |\n",
            "|   73.- AGDFS      |\n",
            "|   74.- FGSDA      |\n",
            "|   75.- DFAGS      |\n",
            "|   76.- GASFD      |\n",
            "|   77.- DSFGA      |\n",
            "|   78.- SGFAD      |\n",
            "|   79.- GFADS      |\n",
            "|   80.- SAFDG      |\n",
            "|   81.- AGSDF      |\n",
            "|   82.- FDGSA      |\n",
            "|   83.- AFDGS      |\n",
            "|   84.- FSGAD      |\n",
            "|   85.- DAFSG      |\n",
            "|   86.- FDGAS      |\n",
            "|   87.- SGDAF      |\n",
            "|   88.- GDAFS      |\n",
            "|   89.- SDAGF      |\n",
            "|   90.- FSDGA      |\n",
            "|   91.- GSFAD      |\n",
            "|   92.- FAGDS      |\n",
            "|   93.- GSDAF      |\n",
            "|   94.- GDFAS      |\n",
            "|   95.- DFSAG      |\n",
            "|   96.- ADSGF      |\n",
            "|   97.- FGASD      |\n",
            "|   98.- AFGSD      |\n",
            "|   99.- SAFGD      |\n",
            "|   100.- DFGSA      |\n",
            "|   101.- AGSFD      |\n",
            "|   102.- SADGF      |\n",
            "|   103.- SADFG      |\n",
            "|   104.- GFSDA      |\n",
            "|   105.- ASDFG      |\n",
            "--------------------------------\n"
          ],
          "name": "stdout"
        }
      ]
    },
    {
      "cell_type": "markdown",
      "metadata": {
        "id": "4ifJefsIMPKz"
      },
      "source": [
        "#Test"
      ]
    },
    {
      "cell_type": "code",
      "metadata": {
        "colab": {
          "base_uri": "https://localhost:8080/"
        },
        "id": "m2GO090SD_Ml",
        "outputId": "20d543b3-73e5-48d6-fc64-12ba646b1b12"
      },
      "source": [
        "#Codigos de prueba TEST\n",
        "import random\n",
        "\n",
        "def formaBruta(auxListContrasena):\n",
        "  contrasenaDecifrada = \"\"\n",
        "  #Esta lista guardara los digitos de la contraseña de forma aleatoria\n",
        "  listaContrasenaDecifrada = [None, None, None, None, None]\n",
        "  #Ingresando los digitos de la contraseña de forma aleatoria en la lista de None\n",
        "  for i in auxListContrasena:\n",
        "    while(True):\n",
        "      auxLugar = random.randint(0, 4)\n",
        "      if(listaContrasenaDecifrada[auxLugar] != None):\n",
        "        continue\n",
        "      listaContrasenaDecifrada[auxLugar]=i\n",
        "      break\n",
        "  \n",
        "  #Concierte la lista en una cadena\n",
        "  contrasenaDecifrada = \"\".join(listaContrasenaDecifrada)\n",
        "  if(not contrasenaDecifrada in listaIntentos):\n",
        "    listaIntentos.append(contrasenaDecifrada)\n",
        "  if(contrasenaDecifrada == contrasena):\n",
        "    return 0\n",
        "  else:\n",
        "    formaBruta(listaContrasenaDecifrada)\n",
        "\n",
        "def imprimir():\n",
        "  print(\"|  LISTA DE INTENTOS |\")\n",
        "  print(\"--------------------------------\")\n",
        "  for i,elemento in enumerate(listaIntentos,1):\n",
        "    print(f\"|   {i+1}.- {elemento}    |\")\n",
        "  print(\"--------------------------------\")\n",
        "\n",
        "\n",
        "contrasena = \"12345\"\n",
        "listaIntentos = []\n",
        "formaBruta(list(contrasena))\n",
        "imprimir()\n",
        "\n",
        "\n",
        "\n",
        "\n",
        "#print(listaIntentos)\n"
      ],
      "execution_count": null,
      "outputs": [
        {
          "output_type": "stream",
          "text": [
            "|  LISTA DE INTENTOS |\n",
            "--------------------------------\n",
            "|   2.- 23541    |\n",
            "|   3.- 32154    |\n",
            "|   4.- 24531    |\n",
            "|   5.- 15432    |\n",
            "|   6.- 13254    |\n",
            "|   7.- 21543    |\n",
            "|   8.- 32145    |\n",
            "|   9.- 54123    |\n",
            "|   10.- 23514    |\n",
            "|   11.- 45321    |\n",
            "|   12.- 53412    |\n",
            "|   13.- 54132    |\n",
            "|   14.- 45312    |\n",
            "|   15.- 21453    |\n",
            "|   16.- 54312    |\n",
            "|   17.- 45231    |\n",
            "|   18.- 34251    |\n",
            "|   19.- 42153    |\n",
            "|   20.- 35124    |\n",
            "|   21.- 35214    |\n",
            "|   22.- 25341    |\n",
            "|   23.- 53241    |\n",
            "|   24.- 21534    |\n",
            "|   25.- 12543    |\n",
            "|   26.- 53124    |\n",
            "|   27.- 34152    |\n",
            "|   28.- 43152    |\n",
            "|   29.- 12345    |\n",
            "--------------------------------\n"
          ],
          "name": "stdout"
        }
      ]
    },
    {
      "cell_type": "code",
      "metadata": {
        "colab": {
          "base_uri": "https://localhost:8080/"
        },
        "id": "_ymQFghjniUM",
        "outputId": "4ae24ab7-40e3-4b99-c077-edca848d05d8"
      },
      "source": [
        "a = \"hola\"\n",
        "lista = list(a)\n",
        "print(lista)\n",
        "res = \"\".join(lista)\n",
        "print(res)"
      ],
      "execution_count": null,
      "outputs": [
        {
          "output_type": "stream",
          "text": [
            "['h', 'o', 'l', 'a']\n",
            "hola\n"
          ],
          "name": "stdout"
        }
      ]
    },
    {
      "cell_type": "code",
      "metadata": {
        "colab": {
          "base_uri": "https://localhost:8080/"
        },
        "id": "Pw1I5DhQsDKM",
        "outputId": "5e01ff60-5618-4aed-ea27-73454d63f67a"
      },
      "source": [
        "listaPrueba = [\"1\",\"2\",\"3\",\"4\",\"4\"]\n",
        "\n",
        "for i in listaPrueba:\n",
        "  print(f\"El elemento {i} se repite: {listaPrueba.count(i)}\")"
      ],
      "execution_count": null,
      "outputs": [
        {
          "output_type": "stream",
          "text": [
            "El elemento 1 se repite: 1\n",
            "El elemento 2 se repite: 1\n",
            "El elemento 3 se repite: 1\n",
            "El elemento 4 se repite: 2\n",
            "El elemento 4 se repite: 2\n"
          ],
          "name": "stdout"
        }
      ]
    }
  ]
}